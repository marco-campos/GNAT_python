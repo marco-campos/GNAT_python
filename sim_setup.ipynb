{
 "cells": [
  {
   "cell_type": "code",
   "execution_count": 2,
   "metadata": {},
   "outputs": [],
   "source": [
    "import numpy as np\n"
   ]
  },
  {
   "cell_type": "code",
   "execution_count": 17,
   "metadata": {},
   "outputs": [],
   "source": [
    "def p_of_r(r, P_MAX, sigma, mu):\n",
    "    \"\"\"\n",
    "    Compute the value of the function p(r) given the parameters P_MAX, sigma, and mu.\n",
    "\n",
    "    :param r: The independent variable, r\n",
    "    :param P_MAX: The maximum value P_MAX\n",
    "    :param sigma: The standard deviation sigma\n",
    "    :param mu: The mean value mu\n",
    "    :return: The computed value of p(r)\n",
    "    \"\"\"\n",
    "    return P_MAX * (1 - 1 / (1 + np.exp(-sigma * (r - mu))))\n",
    "\n",
    "# # Assuming values for P_MAX, sigma, and mu\n",
    "# P_MAX = 1  # This should be replaced with the actual value\n",
    "# sigma = 1  # This should be replaced with the actual value\n",
    "# mu = 0     # This should be replaced with the actual value\n",
    "# r = 0.5    # This should be replaced with the value of r for which p(r) needs to be calculated\n",
    "\n",
    "# # Calculate p(r)\n",
    "# p_r = p_of_r(r, P_MAX, sigma, mu)\n",
    "# p_r"
   ]
  },
  {
   "cell_type": "code",
   "execution_count": 18,
   "metadata": {},
   "outputs": [
    {
     "data": {
      "text/plain": [
       "(array(['E', 'E', 'E', 'I', 'E'], dtype='<U1'),\n",
       " array([[0.00000000e+00, 4.49035717e-04, 4.29494990e-04, 4.28561605e-04,\n",
       "         4.54737974e-04],\n",
       "        [4.49035717e-04, 0.00000000e+00, 2.25683031e-04, 5.59644660e-04,\n",
       "         1.47802645e-04],\n",
       "        [4.29494990e-04, 2.25683031e-04, 0.00000000e+00, 3.52199985e-04,\n",
       "         8.73148224e-05],\n",
       "        [4.28561605e-04, 5.59644660e-04, 3.52199985e-04, 0.00000000e+00,\n",
       "         4.12834432e-04],\n",
       "        [4.54737974e-04, 1.47802645e-04, 8.73148224e-05, 4.12834432e-04,\n",
       "         0.00000000e+00]]))"
      ]
     },
     "execution_count": 18,
     "metadata": {},
     "output_type": "execute_result"
    }
   ],
   "source": [
    "def generate_points_and_distances_in_micrometers(n, size=0.001):\n",
    "    \"\"\"\n",
    "    Generates n points in a square of specified size with labels 'E' or 'I' and computes the toroidal distance \n",
    "    between each pair of points. The square represents a 100 micrometer by 100 micrometer area.\n",
    "\n",
    "    :param n: Number of points to generate\n",
    "    :param size: Size of the square in micrometers\n",
    "    :return: labels for the points and the matrix of distances in micrometers\n",
    "    \"\"\"\n",
    "    # Generate random points in the square scaled by size\n",
    "    points = np.random.rand(n, 2) * size\n",
    "    \n",
    "    # Assign labels 'E' or 'I' randomly to the points\n",
    "    labels = np.random.choice(['E', 'I'], size=n)\n",
    "    \n",
    "    # Initialize the distance matrix\n",
    "    NeuronDistance = np.zeros((n, n))\n",
    "    \n",
    "    # Compute the toroidal distance between each pair of points\n",
    "    for i in range(n):\n",
    "        for j in range(i+1, n):\n",
    "            # Compute the minimum distance considering the torus topology\n",
    "            dx = min(abs(points[i,0] - points[j,0]), size - abs(points[i,0] - points[j,0]))\n",
    "            dy = min(abs(points[i,1] - points[j,1]), size - abs(points[i,1] - points[j,1]))\n",
    "            # Calculate the Euclidean distance with the toroidal correction\n",
    "            distance = np.sqrt(dx**2 + dy**2)\n",
    "            NeuronDistance[i, j] = distance\n",
    "            NeuronDistance[j, i] = distance  # Matrix is symmetric\n",
    "    \n",
    "    return labels, NeuronDistance\n",
    "\n",
    "# Example usage for 5 points in a 100x100 micrometer square\n",
    "labels, NeuronDistance = generate_points_and_distances_in_micrometers(5)\n",
    "labels, NeuronDistance\n"
   ]
  },
  {
   "cell_type": "code",
   "execution_count": 19,
   "metadata": {},
   "outputs": [
    {
     "data": {
      "text/plain": [
       "array([[0.        , 0.39998183, 0.39998183, 0.39998183, 0.39998183],\n",
       "       [0.39998183, 0.        , 0.39998184, 0.39998183, 0.39998184],\n",
       "       [0.39998183, 0.39998184, 0.        , 0.39998183, 0.39998184],\n",
       "       [0.49997729, 0.49997729, 0.49997729, 0.        , 0.49997729],\n",
       "       [0.39998183, 0.39998184, 0.39998184, 0.39998183, 0.        ]])"
      ]
     },
     "execution_count": 19,
     "metadata": {},
     "output_type": "execute_result"
    }
   ],
   "source": [
    "def p_of_r_toroidal_with_types(NeuronDistance, labels):\n",
    "    \"\"\"\n",
    "    Apply the probability function to the toroidal distance matrix with different constants for different types\n",
    "    of neuron connections (EE, EI, and IE).\n",
    "\n",
    "    :param NeuronDistance: Matrix of distances between neurons\n",
    "    :param labels: Array of labels for each neuron\n",
    "    :return: A matrix of probabilities\n",
    "    \"\"\"\n",
    "    # Constants for the probability function for different neuron types\n",
    "    P_MAX_EEI = 0.4\n",
    "    sigma_EEI = 1.0\n",
    "    mu_EEI = 10.0\n",
    "    P_MAX_IE = 0.5\n",
    "    sigma_IE = 1.0\n",
    "    mu_IE = 10.0\n",
    "    \n",
    "    n = len(labels)\n",
    "    ProbabilityMatrix = np.zeros((n, n))\n",
    "    \n",
    "    for i in range(n):\n",
    "        for j in range(n):\n",
    "            if i != j:  # No self-connection\n",
    "                # Determine the type of connection (EE, EI, or IE)\n",
    "                if labels[i] == 'E' and labels[j] == 'E':\n",
    "                    P_MAX = P_MAX_EEI\n",
    "                    sigma = sigma_EEI\n",
    "                    mu = mu_EEI\n",
    "                elif labels[i] == 'E' and labels[j] == 'I':\n",
    "                    P_MAX = P_MAX_EEI\n",
    "                    sigma = sigma_EEI\n",
    "                    mu = mu_EEI\n",
    "                elif labels[i] == 'I' and labels[j] == 'E':\n",
    "                    P_MAX = P_MAX_IE\n",
    "                    sigma = sigma_IE\n",
    "                    mu = mu_IE\n",
    "                \n",
    "                r = NeuronDistance[i, j]\n",
    "                ProbabilityMatrix[i, j] = p_of_r(r, P_MAX, sigma, mu)\n",
    "    return ProbabilityMatrix\n",
    "\n",
    "# Apply the probability function with type-specific constants\n",
    "ProbabilityMatrixWithType = p_of_r_toroidal_with_types(NeuronDistance, labels)\n",
    "ProbabilityMatrixWithType\n"
   ]
  },
  {
   "cell_type": "code",
   "execution_count": null,
   "metadata": {},
   "outputs": [],
   "source": []
  }
 ],
 "metadata": {
  "kernelspec": {
   "display_name": "gnat",
   "language": "python",
   "name": "python3"
  },
  "language_info": {
   "codemirror_mode": {
    "name": "ipython",
    "version": 3
   },
   "file_extension": ".py",
   "mimetype": "text/x-python",
   "name": "python",
   "nbconvert_exporter": "python",
   "pygments_lexer": "ipython3",
   "version": "3.8.18"
  }
 },
 "nbformat": 4,
 "nbformat_minor": 2
}
