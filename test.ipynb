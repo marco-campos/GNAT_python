{
 "cells": [
  {
   "cell_type": "code",
   "execution_count": 1,
   "metadata": {},
   "outputs": [
    {
     "name": "stdout",
     "output_type": "stream",
     "text": [
      "he-hewwoo?\n"
     ]
    }
   ],
   "source": [
    "print(\"he-hewwoo?\")"
   ]
  },
  {
   "cell_type": "code",
   "execution_count": 3,
   "metadata": {},
   "outputs": [
    {
     "data": {
      "text/plain": [
       "'test_network.csv'"
      ]
     },
     "execution_count": 3,
     "metadata": {},
     "output_type": "execute_result"
    }
   ],
   "source": [
    "import csv\n",
    "import random\n",
    "import os\n",
    "\n",
    "# Sample data generation for network.csv\n",
    "filename = 'test_network.csv'\n",
    "num_rows = 5  # number of sample rows\n",
    "\n",
    "with open(filename, 'w', newline='') as file:\n",
    "    writer = csv.writer(file, delimiter=',')  # Using comma as delimiter\n",
    "    writer.writerow(['src_id', 'tgt_id', 'rel_w', 'delay'])\n",
    "\n",
    "    for _ in range(num_rows):\n",
    "        src_id = random.randint(1, 10)  # Random integer for src_id\n",
    "        tgt_id = random.randint(1, 10)  # Random integer for tgt_id\n",
    "        rel_w = round(random.uniform(0, 1), 2)  # Small float for rel_w, rounded to 2 decimal places\n",
    "        delay = round(random.uniform(0, 10), 2)  # Small float for delay in milliseconds, rounded to 2 decimal places\n",
    "\n",
    "        writer.writerow([src_id, tgt_id, rel_w, delay])\n",
    "\n",
    "filename\n"
   ]
  }
 ],
 "metadata": {
  "kernelspec": {
   "display_name": "GNATS",
   "language": "python",
   "name": "gnats"
  },
  "language_info": {
   "codemirror_mode": {
    "name": "ipython",
    "version": 3
   },
   "file_extension": ".py",
   "mimetype": "text/x-python",
   "name": "python",
   "nbconvert_exporter": "python",
   "pygments_lexer": "ipython3",
   "version": "3.10.13"
  }
 },
 "nbformat": 4,
 "nbformat_minor": 2
}
