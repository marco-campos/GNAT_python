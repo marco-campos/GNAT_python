{
 "cells": [
  {
   "cell_type": "code",
   "execution_count": 4,
   "metadata": {},
   "outputs": [
    {
     "data": {
      "text/plain": [
       "[(0, 1, 2, 0, 0.3274923012311928),\n",
       " (0, 3, 2, 1, 0.32928698165641584),\n",
       " (0, 5, 2, 2, 0.0),\n",
       " (2, 3, 1, 1, 0.0),\n",
       " (2, 5, 1, 2, 0.43904930887522114),\n",
       " (4, 5, 0, 2, 0.49123845184678905)]"
      ]
     },
     "execution_count": 4,
     "metadata": {},
     "output_type": "execute_result"
    }
   ],
   "source": [
    "import numpy as np\n",
    "\n",
    "def W(synaptic_strength_matrix):\n",
    "    # Sum the strengths of neurons connecting to each target neuron (sum over rows)\n",
    "    sum_strengths = np.sum(synaptic_strength_matrix, axis=0)\n",
    "    \n",
    "    # Avoid division by zero by replacing zeros with ones (no effect when numerator is zero)\n",
    "    sum_strengths[sum_strengths == 0] = 1\n",
    "    \n",
    "    # Normalize each column by the sum of the column\n",
    "    normalized_matrix = synaptic_strength_matrix / sum_strengths\n",
    "    \n",
    "    return normalized_matrix\n",
    "\n",
    "def Omega(synaptic_strength_matrix, SeTimes, SeIndices, SiTimes, SiIndices, tau=5, conductance=0):\n",
    "    # Calculate the normalized synaptic strength matrix\n",
    "    W_matrix = W(synaptic_strength_matrix)\n",
    "\n",
    "    # Find all pairs of spike times where the presynaptic spike precedes the postsynaptic spike\n",
    "    omega_values = []\n",
    "\n",
    "    # Iterate over all presynaptic spikes\n",
    "    for pre_time, pre_index in zip(SiTimes, SiIndices):\n",
    "        # Iterate over all postsynaptic spikes\n",
    "        for post_time, post_index in zip(SeTimes, SeIndices):\n",
    "            # Check if presynaptic spike time is less than postsynaptic spike time\n",
    "            if pre_time < post_time:\n",
    "                # Get the normalized synaptic strength W from neuron pre_index to post_index\n",
    "                deltaT = post_time - pre_time -conductance\n",
    "                W_strength = W_matrix[post_index, pre_index] * np.heaviside(deltaT, 0.5) * np.exp(-deltaT / tau)\n",
    "                # Add the tuple to the list\n",
    "                omega_values.append((pre_time, post_time, pre_index, post_index, W_strength))\n",
    "\n",
    "    return omega_values\n",
    "\n",
    "# Sample synaptic strength matrix and spike times/indices\n",
    "synaptic_strength_matrix = np.array([[0, 1, 2], [2, 0, 3], [3, 4, 0]])\n",
    "\n",
    "SeTimes = np.array([1, 3, 5])      # Postsynaptic spike times\n",
    "SeIndices = np.array([0, 1, 2])    # Postsynaptic indices\n",
    "SiTimes = np.array([0, 2, 4])      # Presynaptic spike times\n",
    "SiIndices = np.array([2, 1, 0])    # Presynaptic indices\n",
    "\n",
    "# Run the Omega function\n",
    "omega_test = Omega(synaptic_strength_matrix, SeTimes, SeIndices, SiTimes, SiIndices)\n",
    "omega_test\n",
    "\n",
    "\n"
   ]
  },
  {
   "cell_type": "code",
   "execution_count": null,
   "metadata": {},
   "outputs": [],
   "source": []
  }
 ],
 "metadata": {
  "kernelspec": {
   "display_name": "gnat",
   "language": "python",
   "name": "python3"
  },
  "language_info": {
   "codemirror_mode": {
    "name": "ipython",
    "version": 3
   },
   "file_extension": ".py",
   "mimetype": "text/x-python",
   "name": "python",
   "nbconvert_exporter": "python",
   "pygments_lexer": "ipython3",
   "version": "3.8.18"
  }
 },
 "nbformat": 4,
 "nbformat_minor": 2
}
