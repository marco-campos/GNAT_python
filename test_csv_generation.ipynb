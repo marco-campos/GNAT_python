{
 "cells": [
  {
   "cell_type": "code",
   "execution_count": 1,
   "metadata": {},
   "outputs": [
    {
     "name": "stdout",
     "output_type": "stream",
     "text": [
      "he-hewwoo?\n"
     ]
    }
   ],
   "source": [
    "print(\"he-hewwoo?\")"
   ]
  },
  {
   "cell_type": "code",
   "execution_count": 1,
   "metadata": {},
   "outputs": [
    {
     "data": {
      "text/plain": [
       "'test_network.csv'"
      ]
     },
     "execution_count": 1,
     "metadata": {},
     "output_type": "execute_result"
    }
   ],
   "source": [
    "import csv\n",
    "import random\n",
    "import os\n",
    "\n",
    "# Sample data generation for network.csv\n",
    "filename = 'test_network.csv'\n",
    "num_rows = 5  # number of sample rows\n",
    "\n",
    "with open(filename, 'w', newline='') as file:\n",
    "    writer = csv.writer(file, delimiter=',')  # Using comma as delimiter\n",
    "    writer.writerow(['src_id', 'tgt_id', 'rel_w', 'delay'])\n",
    "\n",
    "    for _ in range(num_rows):\n",
    "        src_id = random.randint(1, 10)  # Random integer for src_id\n",
    "        tgt_id = random.randint(1, 10)  # Random integer for tgt_id\n",
    "        rel_w = round(random.uniform(0, 1), 2)  # Small float for rel_w, rounded to 2 decimal places\n",
    "        delay = round(random.uniform(0, 10), 2)  # Small float for delay in milliseconds, rounded to 2 decimal places\n",
    "\n",
    "        writer.writerow([src_id, tgt_id, rel_w, delay])\n",
    "\n",
    "filename\n"
   ]
  },
  {
   "cell_type": "code",
   "execution_count": 2,
   "metadata": {},
   "outputs": [
    {
     "data": {
      "text/plain": [
       "'test_spikes.csv'"
      ]
     },
     "execution_count": 2,
     "metadata": {},
     "output_type": "execute_result"
    }
   ],
   "source": [
    "# Reads spikes from a text file\n",
    "# Each line in the file corresponds to a spike\n",
    "# Each line has the format <event_type> <timestamp> <neuron_index>\n",
    "# event_type = 0 for spikes\n",
    "# timestamp is specified in a hexadecimal string\n",
    "\n",
    "filename = 'test_spikes.csv'\n",
    "num_rows = 10  # number of sample rows\n",
    "\n",
    "with open(filename, 'w', newline='') as file:\n",
    "    writer = csv.writer(file, delimiter=',')  # Using comma as delimiter\n",
    "    writer.writerow(['event_type', 'timestamp', 'neuron_index'])\n",
    "\n",
    "    for _ in range(num_rows):\n",
    "        event_type = 0\n",
    "        ts = random.randint(1, 100)  # Random integer for tgt_id\n",
    "        neuron_index =  random.randint(0, 9)  # Small float for rel_w, rounded to 2 decimal places\n",
    "\n",
    "        writer.writerow([event_type, ts, neuron_index])\n",
    "\n",
    "filename\n"
   ]
  },
  {
   "cell_type": "code",
   "execution_count": 6,
   "metadata": {},
   "outputs": [],
   "source": [
    "def generate_dummy_connectivity_csv(filename, num_neurons, max_edges_per_neuron):\n",
    "    with open(filename, 'w', newline='') as file:\n",
    "        writer = csv.writer(file, delimiter=',')\n",
    "\n",
    "        for _ in range(num_neurons):\n",
    "            available_indices = list(range(num_neurons))\n",
    "            available_indices.remove(_)  # Remove the current neuron to avoid self-connections\n",
    "            n_edges = random.randint(0, min(max_edges_per_neuron, len(available_indices)))\n",
    "            row = [n_edges]\n",
    "\n",
    "            for _ in range(n_edges):\n",
    "                edge_idx = random.choice(available_indices)\n",
    "                available_indices.remove(edge_idx)  # Remove chosen index to avoid duplicate connections\n",
    "                edge_weight = round(random.uniform(0.1, 1.0), 2)\n",
    "                edge_delay = round(random.uniform(0.01, 0.05), 2)\n",
    "\n",
    "                row.extend([edge_idx, edge_weight, edge_delay])\n",
    "\n",
    "            writer.writerow(row)\n"
   ]
  },
  {
   "cell_type": "code",
   "execution_count": 7,
   "metadata": {},
   "outputs": [],
   "source": [
    "\n",
    "# Example usage\n",
    "generate_dummy_connectivity_csv('test_connectivity.csv', num_neurons=10, max_edges_per_neuron=5)"
   ]
  },
  {
   "cell_type": "code",
   "execution_count": 8,
   "metadata": {},
   "outputs": [],
   "source": [
    "import csv\n",
    "import random\n",
    "\n",
    "def generate_dummy_connectivity_2(filename, num_neurons, num_synapses):\n",
    "    with open(filename, 'w', newline='') as file:\n",
    "        writer = csv.writer(file)\n",
    "\n",
    "        for _ in range(num_synapses):\n",
    "            src_idx = random.randint(0, num_neurons - 1)\n",
    "            tgt_idx = random.choice([i for i in range(num_neurons) if i != src_idx])\n",
    "            rel_w = round(random.uniform(0.1, 1.0), 2)\n",
    "            delay = round(random.uniform(0.01, 0.05), 2)\n",
    "\n",
    "            writer.writerow([src_idx, tgt_idx, rel_w, delay])\n",
    "\n",
    "# Example usage\n",
    "generate_dummy_connectivity_2('test_connectivity_2.csv', num_neurons=10, num_synapses=20)\n"
   ]
  },
  {
   "cell_type": "code",
   "execution_count": null,
   "metadata": {},
   "outputs": [],
   "source": []
  }
 ],
 "metadata": {
  "kernelspec": {
   "display_name": "GNATS",
   "language": "python",
   "name": "gnats"
  },
  "language_info": {
   "codemirror_mode": {
    "name": "ipython",
    "version": 3
   },
   "file_extension": ".py",
   "mimetype": "text/x-python",
   "name": "python",
   "nbconvert_exporter": "python",
   "pygments_lexer": "ipython3",
   "version": "3.10.13"
  }
 },
 "nbformat": 4,
 "nbformat_minor": 2
}
