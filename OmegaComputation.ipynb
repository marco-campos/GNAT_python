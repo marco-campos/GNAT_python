{
 "cells": [
  {
   "cell_type": "code",
   "execution_count": 1,
   "metadata": {},
   "outputs": [],
   "source": [
    "import numpy as np\n",
    "import matplotlib.pyplot as plt\n",
    "from utils.omega import Omega"
   ]
  },
  {
   "cell_type": "code",
   "execution_count": 2,
   "metadata": {},
   "outputs": [
    {
     "data": {
      "text/plain": [
       "(array([[0. , 0.2, 0.4],\n",
       "        [0.4, 0. , 0.6],\n",
       "        [0.6, 0.8, 0. ]]),\n",
       " array([[0. , 0.4, 0.2],\n",
       "        [0.2, 0. , 0.8],\n",
       "        [0.8, 0.6, 0. ]]),\n",
       " array([[0.        , 0.75      , 0.33333333],\n",
       "        [0.33333333, 0.        , 0.66666667],\n",
       "        [0.66666667, 0.25      , 0.        ]]))"
      ]
     },
     "execution_count": 2,
     "metadata": {},
     "output_type": "execute_result"
    }
   ],
   "source": [
    "def W(synaptic_strength_matrix):\n",
    "    \"\"\"\n",
    "    Function W takes a synaptic strength matrix, where the element at i,j represents the strength from neuron j to i.\n",
    "    It normalizes each synaptic strength by the sum of all strengths of neurons connecting to the target neuron.\n",
    "\n",
    "    :param synaptic_strength_matrix: A square matrix representing synaptic strengths between neurons\n",
    "    :return: A matrix where each strength is divided by the sum of strengths connecting to the target neuron\n",
    "    \"\"\"\n",
    "    # Sum the strengths of neurons connecting to each target neuron (sum over rows)\n",
    "    sum_strengths = np.sum(synaptic_strength_matrix, axis=0)\n",
    "    \n",
    "    # Avoid division by zero by replacing zeros with ones (no effect when numerator is zero)\n",
    "    sum_strengths[sum_strengths == 0] = 1\n",
    "    \n",
    "    # Normalize each column by the sum of the column\n",
    "    normalized_matrix = synaptic_strength_matrix / sum_strengths\n",
    "    \n",
    "    return normalized_matrix\n",
    "\n",
    "# Example synaptic strength matrices\n",
    "Jei = np.array([[0, 1, 2], [2, 0, 3], [3, 4, 0]])\n",
    "Jie = np.array([[0, 2, 1], [1, 0, 4], [4, 3, 0]])\n",
    "Jee = np.array([[0, 3, 1], [1, 0, 2], [2, 1, 0]])\n",
    "\n",
    "# Apply the W function to these matrices\n",
    "W_Jei = W(Jei)\n",
    "W_Jie = W(Jie)\n",
    "W_Jee = W(Jee)\n",
    "\n",
    "W_Jei, W_Jie, W_Jee\n"
   ]
  },
  {
   "cell_type": "code",
   "execution_count": 3,
   "metadata": {},
   "outputs": [
    {
     "name": "stdout",
     "output_type": "stream",
     "text": [
      "[0.  0.  0.5 1.  1. ]\n"
     ]
    }
   ],
   "source": [
    "import numpy as np\n",
    "\n",
    "# Define the Heaviside step function\n",
    "def heaviside(x):\n",
    "    return np.heaviside(x, 0.5)\n",
    "\n",
    "# Example usage\n",
    "x_values = np.array([-1.5, -0.5, 0, 0.5, 1.5])\n",
    "h_values = heaviside(x_values)\n",
    "\n",
    "print(h_values)\n"
   ]
  },
  {
   "cell_type": "code",
   "execution_count": 3,
   "metadata": {},
   "outputs": [
    {
     "name": "stdout",
     "output_type": "stream",
     "text": [
      "[(0, 1, 2, 0, 0.3274923012311928), (0, 3, 2, 1, 0.32928698165641584), (0, 5, 2, 2, 0.0), (2, 3, 1, 1, 0.0), (2, 5, 1, 2, 0.43904930887522114), (4, 5, 0, 2, 0.49123845184678905)]\n"
     ]
    }
   ],
   "source": [
    "# Sample synaptic strength matrix and spike times/indices\n",
    "synaptic_strength_matrix = np.array([[0, 1, 2], [2, 0, 3], [3, 4, 0]])\n",
    "\n",
    "SeTimes = np.array([1, 3, 5])      # Postsynaptic spike times\n",
    "SeIndices = np.array([0, 1, 2])    # Postsynaptic indices\n",
    "SiTimes = np.array([0, 2, 4])      # Presynaptic spike times\n",
    "SiIndices = np.array([2, 1, 0])    # Presynaptic indices\n",
    "\n",
    "# Run the Omega function\n",
    "omega_test = Omega(synaptic_strength_matrix, SeTimes, SeIndices, SiTimes, SiIndices)\n",
    "print(omega_test)"
   ]
  },
  {
   "cell_type": "code",
   "execution_count": null,
   "metadata": {},
   "outputs": [],
   "source": []
  }
 ],
 "metadata": {
  "kernelspec": {
   "display_name": "gnat",
   "language": "python",
   "name": "python3"
  },
  "language_info": {
   "codemirror_mode": {
    "name": "ipython",
    "version": 3
   },
   "file_extension": ".py",
   "mimetype": "text/x-python",
   "name": "python",
   "nbconvert_exporter": "python",
   "pygments_lexer": "ipython3",
   "version": "3.8.18"
  }
 },
 "nbformat": 4,
 "nbformat_minor": 2
}
