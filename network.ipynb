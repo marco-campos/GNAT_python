{
 "cells": [
  {
   "cell_type": "code",
   "execution_count": 22,
   "metadata": {},
   "outputs": [
    {
     "name": "stdout",
     "output_type": "stream",
     "text": [
      "1 --> 2 [0.50, 1.00]\n"
     ]
    }
   ],
   "source": [
    "import math\n",
    "import csv\n",
    "\n",
    "class Synapse:\n",
    "    def __init__(self, src_id, tgt_id, rel_w, delay):\n",
    "        self.src_id = src_id\n",
    "        self.tgt_id = tgt_id\n",
    "        self.rel_w = rel_w\n",
    "        self.neg_log_rel_w = -math.log(rel_w)\n",
    "        self.delay = delay\n",
    "        self.next = None\n",
    "\n",
    "    def print_synapse(self):\n",
    "        print(f\"{self.src_id} --> {self.tgt_id} [{self.rel_w:.2f}, {self.delay:.2f}]\")\n",
    "\n",
    "    def __str__(self):\n",
    "        return f\"Synapse(src_id={self.src_id}, tgt_id={self.tgt_id}, rel_w={self.rel_w}, delay={self.delay})\"\n",
    "\n",
    "class PhysNetwork:\n",
    "    def __init__(self, n_cells):\n",
    "        self.n_cells = n_cells\n",
    "        self.presyns = [[] for _ in range(n_cells)]\n",
    "\n",
    "    def add_synapse(self, synapse):\n",
    "        if synapse.tgt_id >= self.n_cells:\n",
    "            raise Exception(\"Trying to add synapse onto a cell outside of the network population.\")\n",
    "        \n",
    "        self.presyns[synapse.tgt_id].insert(0, synapse)\n",
    "\n",
    "    def read_file(self, fname):\n",
    "        pass\n",
    "\n",
    "    def print_network(self):\n",
    "        for synapse_list in self.presyns:\n",
    "            for synapse in synapse_list:\n",
    "                synapse.print_synapse()\n",
    "    def read_file(self, filename):\n",
    "        try:\n",
    "            with open(filename, 'r') as file:\n",
    "                reader = csv.reader(file, delimiter=',')\n",
    "                next(reader)  # Skip the header row\n",
    "                for row in reader:\n",
    "                    if len(row) != 4:\n",
    "                        raise ValueError(\"Incorrect number of fields in row\")\n",
    "\n",
    "                    src_id, tgt_id = map(int, row[:2])\n",
    "                    rel_w, delay = map(float, row[2:])\n",
    "                    synapse = Synapse(src_id, tgt_id, rel_w, delay)\n",
    "\n",
    "                    self.add_synapse(synapse)\n",
    "\n",
    "        except IOError:\n",
    "            raise Exception(f\"Unable to open synapse file {filename}\")\n",
    "        except ValueError as e:\n",
    "            raise Exception(f\"File parsing error: {str(e)}\")\n",
    "\n",
    "def create_synapse(src, tgt, rel_w, delay):\n",
    "    return Synapse(src, tgt, rel_w, delay)\n",
    "\n",
    "# Example usage\n",
    "network = PhysNetwork(n_cells=100)\n",
    "synapse = Synapse(src_id=1, tgt_id=2, rel_w=0.5, delay=1.0)\n",
    "network.add_synapse(synapse)\n",
    "network.print_network()\n"
   ]
  },
  {
   "cell_type": "code",
   "execution_count": 23,
   "metadata": {},
   "outputs": [
    {
     "name": "stdout",
     "output_type": "stream",
     "text": [
      "2 --> 2 [0.07, 0.86]\n",
      "1 --> 2 [0.50, 1.00]\n",
      "3 --> 5 [0.20, 7.49]\n",
      "1 --> 8 [0.24, 0.26]\n",
      "7 --> 10 [0.41, 1.28]\n",
      "10 --> 10 [0.26, 1.10]\n"
     ]
    }
   ],
   "source": [
    "network.read_file('test_network.csv')\n",
    "network.print_network()"
   ]
  },
  {
   "cell_type": "code",
   "execution_count": null,
   "metadata": {},
   "outputs": [],
   "source": []
  }
 ],
 "metadata": {
  "kernelspec": {
   "display_name": "GNATS",
   "language": "python",
   "name": "gnats"
  },
  "language_info": {
   "codemirror_mode": {
    "name": "ipython",
    "version": 3
   },
   "file_extension": ".py",
   "mimetype": "text/x-python",
   "name": "python",
   "nbconvert_exporter": "python",
   "pygments_lexer": "ipython3",
   "version": "3.10.13"
  }
 },
 "nbformat": 4,
 "nbformat_minor": 2
}
