{
 "cells": [
  {
   "cell_type": "code",
   "execution_count": 1,
   "metadata": {},
   "outputs": [],
   "source": [
    "import math\n",
    "from GNAT.network import Synapse, PhysNetwork\n",
    "from GNAT.quadtree import Spike, SpikePair, QuadTree\n",
    "from GNAT.raster import SpikeRaster"
   ]
  },
  {
   "cell_type": "code",
   "execution_count": 2,
   "metadata": {},
   "outputs": [],
   "source": [
    "class GnatFinder:\n",
    "    def __init__(self, n_cells, qtarray_size):\n",
    "        self.g_raster = SpikeRaster(n_cells)\n",
    "        self.g_network = PhysNetwork()\n",
    "        self.g_qtarray = [QuadTree() for _ in range(qtarray_size)]\n",
    "\n"
   ]
  },
  {
   "cell_type": "code",
   "execution_count": 3,
   "metadata": {},
   "outputs": [],
   "source": [
    "def compute_gnat_edges(tau, thresh, c_radius):\n",
    "    for post_idx in range(g_network.n_cells):\n",
    "        # Print status\n",
    "        if post_idx % 10 == 0:\n",
    "            print(f\"Cell {post_idx} of {g_network.n_cells}\")\n",
    "\n",
    "        # Iterate over spike pairs in post qtree\n",
    "        sp_a = g_raster.sp_lists[post_idx]\n",
    "        while sp_a:\n",
    "            sp_b = sp_a.next\n",
    "            while sp_b:\n",
    "                if not spike_equals(sp_a, sp_b):\n",
    "                    spp_post = create_spike_pair(sp_a, sp_b)\n",
    "                    # print_spike_pair(spp_post)  # Uncomment if needed\n",
    "\n",
    "                    # List of presynaptic partners\n",
    "                    presyn = g_network.presyns[post_idx]\n",
    "\n",
    "                    while presyn:\n",
    "                        # Quadtree associated to presynaptic neuron\n",
    "                        presyn_qtree = g_qtarray[presyn.src_id]\n",
    "\n",
    "                        # Set query bounding box\n",
    "                        query_bbox = BoundingBox(c_x=spp_post.sp1.ts, c_y=spp_post.sp2.ts, w2=c_radius)\n",
    "\n",
    "                        # Apply edge test to queried range\n",
    "                        QTreeMapGNATEdge(presyn_qtree, query_bbox, spp_post, presyn, tau, thresh)\n",
    "                        presyn = presyn.next\n",
    "\n",
    "                sp_b = sp_b.next\n",
    "            sp_a = sp_a.next\n"
   ]
  },
  {
   "cell_type": "code",
   "execution_count": 5,
   "metadata": {},
   "outputs": [],
   "source": [
    "import sys\n",
    "\n",
    "def main():\n",
    "    # Check number of arguments\n",
    "    if len(sys.argv) < 7:\n",
    "        print(f\"Usage: {sys.argv[0]} <N cells> <spike file> <network file> <tau> <thresh> <causal_radius>\")\n",
    "        sys.exit(-1)\n",
    "\n",
    "    _n_cells = int(sys.argv[1])\n",
    "    tau = float(sys.argv[4])\n",
    "    thresh = float(sys.argv[5])\n",
    "    c_radius = float(sys.argv[6])\n",
    "\n",
    "    # Initialize raster and network\n",
    "    g_raster = SpikeRaster(_n_cells)\n",
    "    g_network = PhysNetwork(_n_cells)\n",
    "\n",
    "    # Read spikes from file into global raster\n",
    "    RasterReadFile(g_raster, sys.argv[2])\n",
    "\n",
    "    # Read network connectivity file\n",
    "    PhysNetworkReadFile(g_network, sys.argv[3])\n",
    "    # Uncomment if needed: PhysNetworkPrint(g_network)\n",
    "\n",
    "    # Build top-level bounding box\n",
    "    _cx = (g_raster.t_max + g_raster.t_min) / 2\n",
    "    _cy = _cx\n",
    "    _hw = (g_raster.t_max - g_raster.t_min) / 2\n",
    "    bbox_top_level = BBoxCreate(_cx, _cy, _hw)\n",
    "\n",
    "    # Build quadtrees for each cell\n",
    "    g_qtarray = [QTreeCreate(bbox_top_level) for _ in range(_n_cells)]\n",
    "    for idx in range(_n_cells):\n",
    "        insert_spike_pairs(g_qtarray[idx], g_raster.sp_lists[idx])\n",
    "        # Uncomment if needed for debugging:\n",
    "        # print(\"-------- QuadTree --------\")\n",
    "        # QTreePrint(g_qtarray[idx])\n",
    "        # print(\"-------- End QuadTree --------\")\n",
    "\n",
    "    # Initialize output file\n",
    "    initialize_edge_buffer(\"gnat2_out.txt\")\n",
    "\n",
    "    # Compute gnats\n",
    "    compute_gnat_edges(tau, thresh, c_radius)\n",
    "\n",
    "    # Clean up\n",
    "    finalize_edge_buffer()\n"
   ]
  },
  {
   "cell_type": "code",
   "execution_count": 6,
   "metadata": {},
   "outputs": [
    {
     "name": "stdout",
     "output_type": "stream",
     "text": [
      "Usage: /Users/marco_cmp/opt/anaconda3/envs/GNATS/lib/python3.10/site-packages/ipykernel_launcher.py <N cells> <spike file> <network file> <tau> <thresh> <causal_radius>\n"
     ]
    },
    {
     "ename": "SystemExit",
     "evalue": "-1",
     "output_type": "error",
     "traceback": [
      "An exception has occurred, use %tb to see the full traceback.\n",
      "\u001b[0;31mSystemExit\u001b[0m\u001b[0;31m:\u001b[0m -1\n"
     ]
    },
    {
     "name": "stderr",
     "output_type": "stream",
     "text": [
      "/Users/marco_cmp/opt/anaconda3/envs/GNATS/lib/python3.10/site-packages/IPython/core/interactiveshell.py:3558: UserWarning: To exit: use 'exit', 'quit', or Ctrl-D.\n",
      "  warn(\"To exit: use 'exit', 'quit', or Ctrl-D.\", stacklevel=1)\n"
     ]
    }
   ],
   "source": [
    "main()"
   ]
  },
  {
   "cell_type": "code",
   "execution_count": null,
   "metadata": {},
   "outputs": [],
   "source": []
  }
 ],
 "metadata": {
  "kernelspec": {
   "display_name": "GNATS",
   "language": "python",
   "name": "gnats"
  },
  "language_info": {
   "codemirror_mode": {
    "name": "ipython",
    "version": 3
   },
   "file_extension": ".py",
   "mimetype": "text/x-python",
   "name": "python",
   "nbconvert_exporter": "python",
   "pygments_lexer": "ipython3",
   "version": "3.10.13"
  }
 },
 "nbformat": 4,
 "nbformat_minor": 2
}
