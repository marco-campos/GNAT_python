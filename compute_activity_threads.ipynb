{
 "cells": [
  {
   "cell_type": "code",
   "execution_count": 10,
   "metadata": {},
   "outputs": [],
   "source": [
    "# Constants equivalent to macros\n",
    "TICKS_PER_MS = 1000000\n",
    "GNATS = 1\n",
    "CDH = 2\n",
    "\n",
    "# Type aliases\n",
    "# In Python, explicit type definitions are not necessary as it's a dynamically typed language.\n",
    "# However, for clarity, you can document the intended types using comments or Python type hints.\n",
    "tstamp_t = int  # spike timestamp (comment indicating intended type)\n",
    "idx_t = int\n",
    "real_t = float\n"
   ]
  },
  {
   "cell_type": "code",
   "execution_count": 11,
   "metadata": {},
   "outputs": [],
   "source": [
    "import math\n",
    "import csv\n",
    "\n",
    "def gamma(t1, t2, weight, delay, tau):\n",
    "    theta = 1 if (t2 - t1) >= delay else 0\n",
    "    res = -math.log(weight * theta * math.exp(-(t2 - t1 - delay) / tau))\n",
    "    return res\n"
   ]
  },
  {
   "cell_type": "code",
   "execution_count": 22,
   "metadata": {},
   "outputs": [],
   "source": [
    "class SpikeRaster:\n",
    "    def __init__(self, n_neurons):\n",
    "        self.n_neurons = n_neurons\n",
    "        self.evtlist = [set() for _ in range(n_neurons)]\n",
    "\n",
    "    def read_event_file(self, fname):\n",
    "        try:\n",
    "            with open(fname, 'r') as infile:\n",
    "                csv_reader = csv.reader(infile)\n",
    "                header = next(csv_reader)  # Skip the header row\n",
    "\n",
    "                if header != [\"event_type\", \"timestamp\", \"neuron_index\"]:\n",
    "                    raise ValueError(\"File format is incorrect\")\n",
    "\n",
    "                print(f\"Opened file: {fname}\")\n",
    "                for row in csv_reader:\n",
    "                    if len(row) != 3:\n",
    "                        print(\"Invalid row format, skipping:\", ','.join(row))\n",
    "                        continue\n",
    "\n",
    "                    evttype, evtstamp, evtidx = row\n",
    "                    evttype = int(evttype)\n",
    "                    evtstamp = int(float(evtstamp) * TICKS_PER_MS)  # Convert milliseconds to ticks\n",
    "                    evtidx = int(evtidx)\n",
    "\n",
    "                    if evtidx >= self.n_neurons:\n",
    "                        print(\"Neuron index of event greater than number of neurons; ignoring..\")\n",
    "                        continue\n",
    "\n",
    "                    if evttype == 0:\n",
    "                        self.evtlist[evtidx].add(evtstamp)\n",
    "\n",
    "        except IOError:\n",
    "            print(f\"Error opening event file: {fname}\")\n",
    "            sys.exit(1)\n",
    "        except ValueError as e:\n",
    "            print(str(e))\n",
    "            sys.exit(1)\n",
    "\n",
    "    def get_spikes_in_range(self, neuron_idx, low, high):\n",
    "        neuron_spikes = self.evtlist[neuron_idx]\n",
    "\n",
    "        # Use a list comprehension to filter spikes within the specified range\n",
    "        return [timestamp for timestamp in neuron_spikes if low <= timestamp <= high]\n"
   ]
  },
  {
   "cell_type": "code",
   "execution_count": 23,
   "metadata": {},
   "outputs": [
    {
     "name": "stdout",
     "output_type": "stream",
     "text": [
      "Opened file: test_spikes.csv\n"
     ]
    },
    {
     "data": {
      "text/plain": [
       "[35000000, 77000000, 94000000]"
      ]
     },
     "execution_count": 23,
     "metadata": {},
     "output_type": "execute_result"
    }
   ],
   "source": [
    "test_spike_raster = SpikeRaster(10)\n",
    "test_spike_raster.read_event_file('test_spikes.csv')\n",
    "test_spike_raster.get_spikes_in_range(1, 0, 100000000)"
   ]
  },
  {
   "cell_type": "code",
   "execution_count": 36,
   "metadata": {},
   "outputs": [],
   "source": [
    "from collections import namedtuple\n",
    "\n",
    "# Using namedtuple for the edge structure\n",
    "Edge = namedtuple('Edge', ['idx', 'weight', 'delay'])\n",
    "\n",
    "class Network:\n",
    "    def __init__(self, n_neurons):\n",
    "        self.n_neurons = n_neurons\n",
    "        self.presynaptic_edges = [[] for _ in range(n_neurons)]\n",
    "\n",
    "    def read_connectivity_csv(self, fname):\n",
    "        try:\n",
    "            with open(fname, 'r') as infile:\n",
    "                reader = csv.reader(infile)\n",
    "\n",
    "                self.presynaptic_edges = []\n",
    "\n",
    "                for row in reader:\n",
    "                    n_edges = int(row[0])\n",
    "                    edge_list = []\n",
    "\n",
    "                    for i in range(n_edges):\n",
    "                        idx = int(row[1 + i * 3])\n",
    "                        weight = float(row[2 + i * 3])\n",
    "                        delay = float(row[3 + i * 3])\n",
    "                        edge_list.append(Edge(idx, weight, delay))\n",
    "\n",
    "                    self.presynaptic_edges.append(edge_list)\n",
    "\n",
    "                self.n_targets = len(self.presynaptic_edges)\n",
    "\n",
    "        except IOError:\n",
    "            print(f\"Error opening connectivity file: {fname}\")\n",
    "            sys.exit(1)\n",
    "        except ValueError as e:\n",
    "            print(str(e))\n",
    "            sys.exit(1)\n",
    "\n",
    "\n",
    "    def read_connectivity(self, fname):\n",
    "        try:\n",
    "            with open(fname, 'r') as infile:\n",
    "                print(f\"Opened connectivity file: {fname}\")\n",
    "                reader = csv.reader(infile)\n",
    "\n",
    "                # Initialize edge lists\n",
    "                self.presynaptic_edges = [[] for _ in range(self.n_neurons)]\n",
    "\n",
    "                for row in reader:\n",
    "                    if len(row) != 4:\n",
    "                        print(f\"Invalid row format, skipping: {','.join(row)}\")\n",
    "                        continue\n",
    "\n",
    "                    src_idx, tgt_idx, weight, delay = row\n",
    "                    src_idx = int(src_idx)\n",
    "                    tgt_idx = int(tgt_idx)\n",
    "                    weight = float(weight)\n",
    "                    delay = float(delay)\n",
    "\n",
    "                    edge = Edge(src_idx, weight, delay)\n",
    "                    self.presynaptic_edges[tgt_idx].append(edge)\n",
    "\n",
    "        except IOError:\n",
    "            print(f\"Error opening connectivity file: {fname}\")\n",
    "            sys.exit(1)\n",
    "\n",
    "    def compute_activity_threads(self, raster, fname, gamma_thresh, temporal_radius, tau, func):\n",
    "        if self.n_neurons < raster.n_neurons:\n",
    "            print(\"Number of neurons in connectivity file is less than the number of neurons in the raster\")\n",
    "            sys.exit(1)\n",
    "\n",
    "        try:\n",
    "            with open(fname, 'w', newline='') as outfile:\n",
    "                if raster.n_neurons > 0:\n",
    "                    for neuron_idx in range(raster.n_neurons):\n",
    "                        self.emit_causal_neighbors(raster, neuron_idx, gamma_thresh, temporal_radius, tau, func, outfile)\n",
    "\n",
    "        except IOError:\n",
    "            print(\"Error opening activity thread output file\")\n",
    "            sys.exit(1)\n",
    "\n",
    "    # Private method (can be public as Python does not enforce access control)\n",
    "    def emit_causal_neighbors(self, sr, neuron_idx, gamma_thresh, temporal_radius, tau, func, outfile):\n",
    "        # Get spike train from this neuron\n",
    "        postsyn_neuron_spikes = sr.evtlist[neuron_idx]\n",
    "\n",
    "        # For each spike, find all spikes from presynaptic neurons within temporal radius\n",
    "        for curr_spike in postsyn_neuron_spikes:\n",
    "            # Past limit is the earliest spike time we consider\n",
    "            # Clamp to zero to avoid going past start of recording\n",
    "            past_limit = max(curr_spike - temporal_radius, 0)\n",
    "\n",
    "            # Loop over presynaptic neurons\n",
    "            for presyn_edge in self.presynaptic_edges[neuron_idx]:\n",
    "                presyn_neuron_idx, weight, delay = presyn_edge\n",
    "\n",
    "                # Get all spikes within temporal radius from this presynaptic neuron\n",
    "                pre_spikes = sr.get_spikes_in_range(presyn_neuron_idx, past_limit, curr_spike)\n",
    "\n",
    "                # Loop over all presynaptic spikes from this presynaptic neuron\n",
    "                for pre_spike in pre_spikes:\n",
    "                    g = gamma(pre_spike, curr_spike, weight, delay, tau)\n",
    "\n",
    "                    # Check for causality\n",
    "                    if g <= gamma_thresh and func == GNATS:\n",
    "                        # Emit edge\n",
    "                        outfile.write(f\"{presyn_neuron_idx},{pre_spike},{neuron_idx},{curr_spike}\\n\")\n",
    "                    elif func == CDH:\n",
    "                        outfile.write(f\"{g}\\n\")\n",
    "\n",
    "\n"
   ]
  },
  {
   "cell_type": "code",
   "execution_count": 37,
   "metadata": {},
   "outputs": [
    {
     "name": "stdout",
     "output_type": "stream",
     "text": [
      "[[], [], [Edge(idx=7, weight=0.22, delay=0.02), Edge(idx=8, weight=0.78, delay=0.02), Edge(idx=1, weight=0.73, delay=0.05)], [], [Edge(idx=5, weight=0.21, delay=0.02), Edge(idx=1, weight=0.13, delay=0.03)], [], [Edge(idx=4, weight=0.73, delay=0.05), Edge(idx=2, weight=0.6, delay=0.02), Edge(idx=7, weight=0.42, delay=0.03), Edge(idx=0, weight=0.28, delay=0.02)], [], [Edge(idx=2, weight=0.9, delay=0.02), Edge(idx=0, weight=0.25, delay=0.04), Edge(idx=9, weight=0.35, delay=0.01), Edge(idx=5, weight=0.81, delay=0.03)], []]\n"
     ]
    }
   ],
   "source": [
    "test_network = Network(10)\n",
    "test_network.read_connectivity_csv('test_connectivity.csv')\n",
    "print(test_network.presynaptic_edges)"
   ]
  },
  {
   "cell_type": "code",
   "execution_count": 43,
   "metadata": {},
   "outputs": [
    {
     "name": "stdout",
     "output_type": "stream",
     "text": [
      "Opened connectivity file: test_connectivity_2.csv\n",
      "[Edge(idx=6, weight=0.37, delay=0.04), Edge(idx=9, weight=0.66, delay=0.01)]\n",
      "[Edge(idx=5, weight=0.21, delay=0.01), Edge(idx=4, weight=0.36, delay=0.04), Edge(idx=9, weight=0.2, delay=0.02)]\n",
      "[Edge(idx=0, weight=0.17, delay=0.02), Edge(idx=3, weight=0.43, delay=0.03), Edge(idx=0, weight=0.79, delay=0.05), Edge(idx=1, weight=0.29, delay=0.02)]\n",
      "[]\n",
      "[Edge(idx=7, weight=0.12, delay=0.05), Edge(idx=1, weight=0.92, delay=0.01)]\n",
      "[]\n",
      "[Edge(idx=8, weight=0.78, delay=0.02), Edge(idx=0, weight=0.81, delay=0.02), Edge(idx=5, weight=0.57, delay=0.04)]\n",
      "[]\n",
      "[Edge(idx=1, weight=0.78, delay=0.05), Edge(idx=9, weight=0.81, delay=0.01), Edge(idx=1, weight=0.87, delay=0.04), Edge(idx=4, weight=0.26, delay=0.01)]\n",
      "[Edge(idx=5, weight=0.25, delay=0.03), Edge(idx=0, weight=0.1, delay=0.02)]\n"
     ]
    }
   ],
   "source": [
    "test_network = Network(10)\n",
    "test_network.read_connectivity('test_connectivity_2.csv')\n",
    "for node in test_network.presynaptic_edges:\n",
    "    print(node)"
   ]
  },
  {
   "cell_type": "code",
   "execution_count": 45,
   "metadata": {},
   "outputs": [],
   "source": [
    "test_network.compute_activity_threads(\n",
    "    raster=test_spike_raster,\n",
    "    fname='test_activity_threads_1.csv', \n",
    "    gamma_thresh=1, \n",
    "    temporal_radius=0.10, \n",
    "    tau=0.05, \n",
    "    func=1\n",
    ")"
   ]
  },
  {
   "cell_type": "code",
   "execution_count": 7,
   "metadata": {},
   "outputs": [],
   "source": [
    "def main(n_neurons, connection_file, spike_file, func, out_file, tau, thresh, causal_radius):\n",
    "    print(\"Reading event file...\")\n",
    "    raster = SpikeRaster(n_neurons)\n",
    "    raster.read_event_file(spike_file)\n",
    "\n",
    "    print(\"Reading connectivity file...\")\n",
    "    net = Network(n_neurons)\n",
    "    net.read_connectivity(connection_file)\n",
    "\n",
    "    print(\"Computing activity threads...\")\n",
    "    net.compute_activity_threads(raster, out_file, thresh, causal_radius, tau, func)\n",
    "    print(\"Done\")"
   ]
  },
  {
   "cell_type": "code",
   "execution_count": null,
   "metadata": {},
   "outputs": [],
   "source": []
  }
 ],
 "metadata": {
  "kernelspec": {
   "display_name": "GNATS",
   "language": "python",
   "name": "gnats"
  },
  "language_info": {
   "codemirror_mode": {
    "name": "ipython",
    "version": 3
   },
   "file_extension": ".py",
   "mimetype": "text/x-python",
   "name": "python",
   "nbconvert_exporter": "python",
   "pygments_lexer": "ipython3",
   "version": "3.10.13"
  }
 },
 "nbformat": 4,
 "nbformat_minor": 2
}
